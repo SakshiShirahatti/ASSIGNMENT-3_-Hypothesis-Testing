{
  "cells": [
    {
      "cell_type": "markdown",
      "id": "4e57904a",
      "metadata": {
        "id": "4e57904a"
      },
      "source": [
        "# Question No. 1\n",
        "A F&B manager wants to determine whether there is any significant difference in the diameter of the cutlet between two units. A randomly selected sample of cutlets was collected from both units and measured? Analyze the data and draw inferences at 5% significance level. Please state the assumptions and tests that you carried out to check validity of the assumptions.\n",
        "\n",
        "Minitab File : Cutlets.mtw"
      ]
    },
    {
      "cell_type": "code",
      "execution_count": null,
      "id": "ce47f6e3",
      "metadata": {
        "id": "ce47f6e3"
      },
      "outputs": [],
      "source": [
        "import pandas as pd\n",
        "import numpy as np\n",
        "import matplotlib.pyplot as plt\n",
        "from scipy import stats"
      ]
    },
    {
      "cell_type": "code",
      "execution_count": null,
      "id": "4152ade5",
      "metadata": {
        "id": "4152ade5"
      },
      "outputs": [],
      "source": [
        "cutlets = pd.read_csv(r\"\\Users\\HP-PC\\Desktop\\Assignments\\ASSIGNMENT 3_ Hypothesis Testing\\Cutlets.csv\")"
      ]
    },
    {
      "cell_type": "code",
      "execution_count": null,
      "id": "be5cda36",
      "metadata": {
        "id": "be5cda36",
        "outputId": "f3c921b1-d8bf-4021-c5c4-34c82a513440"
      },
      "outputs": [
        {
          "data": {
            "text/html": [
              "<div>\n",
              "<style scoped>\n",
              "    .dataframe tbody tr th:only-of-type {\n",
              "        vertical-align: middle;\n",
              "    }\n",
              "\n",
              "    .dataframe tbody tr th {\n",
              "        vertical-align: top;\n",
              "    }\n",
              "\n",
              "    .dataframe thead th {\n",
              "        text-align: right;\n",
              "    }\n",
              "</style>\n",
              "<table border=\"1\" class=\"dataframe\">\n",
              "  <thead>\n",
              "    <tr style=\"text-align: right;\">\n",
              "      <th></th>\n",
              "      <th>Unit A</th>\n",
              "      <th>Unit B</th>\n",
              "    </tr>\n",
              "  </thead>\n",
              "  <tbody>\n",
              "    <tr>\n",
              "      <th>0</th>\n",
              "      <td>6.8090</td>\n",
              "      <td>6.7703</td>\n",
              "    </tr>\n",
              "    <tr>\n",
              "      <th>1</th>\n",
              "      <td>6.4376</td>\n",
              "      <td>7.5093</td>\n",
              "    </tr>\n",
              "    <tr>\n",
              "      <th>2</th>\n",
              "      <td>6.9157</td>\n",
              "      <td>6.7300</td>\n",
              "    </tr>\n",
              "    <tr>\n",
              "      <th>3</th>\n",
              "      <td>7.3012</td>\n",
              "      <td>6.7878</td>\n",
              "    </tr>\n",
              "    <tr>\n",
              "      <th>4</th>\n",
              "      <td>7.4488</td>\n",
              "      <td>7.1522</td>\n",
              "    </tr>\n",
              "  </tbody>\n",
              "</table>\n",
              "</div>"
            ],
            "text/plain": [
              "   Unit A  Unit B\n",
              "0  6.8090  6.7703\n",
              "1  6.4376  7.5093\n",
              "2  6.9157  6.7300\n",
              "3  7.3012  6.7878\n",
              "4  7.4488  7.1522"
            ]
          },
          "execution_count": 13,
          "metadata": {},
          "output_type": "execute_result"
        }
      ],
      "source": [
        "cutlets.head()"
      ]
    },
    {
      "cell_type": "code",
      "execution_count": null,
      "id": "432f65bb",
      "metadata": {
        "id": "432f65bb",
        "outputId": "78f0734b-02d0-4fef-c580-d98efc921070"
      },
      "outputs": [
        {
          "data": {
            "text/html": [
              "<div>\n",
              "<style scoped>\n",
              "    .dataframe tbody tr th:only-of-type {\n",
              "        vertical-align: middle;\n",
              "    }\n",
              "\n",
              "    .dataframe tbody tr th {\n",
              "        vertical-align: top;\n",
              "    }\n",
              "\n",
              "    .dataframe thead th {\n",
              "        text-align: right;\n",
              "    }\n",
              "</style>\n",
              "<table border=\"1\" class=\"dataframe\">\n",
              "  <thead>\n",
              "    <tr style=\"text-align: right;\">\n",
              "      <th></th>\n",
              "      <th>Unit A</th>\n",
              "      <th>Unit B</th>\n",
              "    </tr>\n",
              "  </thead>\n",
              "  <tbody>\n",
              "    <tr>\n",
              "      <th>30</th>\n",
              "      <td>6.7794</td>\n",
              "      <td>7.0992</td>\n",
              "    </tr>\n",
              "    <tr>\n",
              "      <th>31</th>\n",
              "      <td>7.2783</td>\n",
              "      <td>7.1180</td>\n",
              "    </tr>\n",
              "    <tr>\n",
              "      <th>32</th>\n",
              "      <td>7.1561</td>\n",
              "      <td>6.6965</td>\n",
              "    </tr>\n",
              "    <tr>\n",
              "      <th>33</th>\n",
              "      <td>7.3943</td>\n",
              "      <td>6.5780</td>\n",
              "    </tr>\n",
              "    <tr>\n",
              "      <th>34</th>\n",
              "      <td>6.9405</td>\n",
              "      <td>7.3875</td>\n",
              "    </tr>\n",
              "  </tbody>\n",
              "</table>\n",
              "</div>"
            ],
            "text/plain": [
              "    Unit A  Unit B\n",
              "30  6.7794  7.0992\n",
              "31  7.2783  7.1180\n",
              "32  7.1561  6.6965\n",
              "33  7.3943  6.5780\n",
              "34  6.9405  7.3875"
            ]
          },
          "execution_count": 14,
          "metadata": {},
          "output_type": "execute_result"
        }
      ],
      "source": [
        "cutlets.tail()"
      ]
    },
    {
      "cell_type": "code",
      "execution_count": null,
      "id": "a1dbfde3",
      "metadata": {
        "id": "a1dbfde3"
      },
      "outputs": [],
      "source": [
        "# Ho: μ1 = μ2 \n",
        "# H1: μ1 ≠ μ2"
      ]
    },
    {
      "cell_type": "code",
      "execution_count": null,
      "id": "d1910a05",
      "metadata": {
        "id": "d1910a05",
        "outputId": "dfdbe9d5-20fd-4b90-c757-543394509878"
      },
      "outputs": [
        {
          "data": {
            "text/plain": [
              "7.01909142857143"
            ]
          },
          "execution_count": 16,
          "metadata": {},
          "output_type": "execute_result"
        }
      ],
      "source": [
        "cutlets[\"Unit A\"].mean()"
      ]
    },
    {
      "cell_type": "code",
      "execution_count": null,
      "id": "02054aea",
      "metadata": {
        "id": "02054aea",
        "outputId": "92961c49-040f-42b7-e119-246a0995ab7d"
      },
      "outputs": [
        {
          "data": {
            "text/plain": [
              "6.964297142857142"
            ]
          },
          "execution_count": 17,
          "metadata": {},
          "output_type": "execute_result"
        }
      ],
      "source": [
        "cutlets[\"Unit B\"].mean()"
      ]
    },
    {
      "cell_type": "code",
      "execution_count": null,
      "id": "c24fa2e2",
      "metadata": {
        "id": "c24fa2e2"
      },
      "outputs": [],
      "source": [
        "unitA=pd.Series(cutlets.iloc[:,0])"
      ]
    },
    {
      "cell_type": "code",
      "execution_count": null,
      "id": "807f2cac",
      "metadata": {
        "id": "807f2cac",
        "outputId": "2b8fc765-213b-45cc-d188-9417672dc6aa"
      },
      "outputs": [
        {
          "data": {
            "text/plain": [
              "0     6.8090\n",
              "1     6.4376\n",
              "2     6.9157\n",
              "3     7.3012\n",
              "4     7.4488\n",
              "5     7.3871\n",
              "6     6.8755\n",
              "7     7.0621\n",
              "8     6.6840\n",
              "9     6.8236\n",
              "10    7.3930\n",
              "11    7.5169\n",
              "12    6.9246\n",
              "13    6.9256\n",
              "14    6.5797\n",
              "15    6.8394\n",
              "16    6.5970\n",
              "17    7.2705\n",
              "18    7.2828\n",
              "19    7.3495\n",
              "20    6.9438\n",
              "21    7.1560\n",
              "22    6.5341\n",
              "23    7.2854\n",
              "24    6.9952\n",
              "25    6.8568\n",
              "26    7.2163\n",
              "27    6.6801\n",
              "28    6.9431\n",
              "29    7.0852\n",
              "30    6.7794\n",
              "31    7.2783\n",
              "32    7.1561\n",
              "33    7.3943\n",
              "34    6.9405\n",
              "Name: Unit A, dtype: float64"
            ]
          },
          "execution_count": 19,
          "metadata": {},
          "output_type": "execute_result"
        }
      ],
      "source": [
        "unitA"
      ]
    },
    {
      "cell_type": "code",
      "execution_count": null,
      "id": "8165a059",
      "metadata": {
        "id": "8165a059"
      },
      "outputs": [],
      "source": [
        "unitB=pd.Series(cutlets.iloc[:,1])"
      ]
    },
    {
      "cell_type": "code",
      "execution_count": null,
      "id": "8a55d250",
      "metadata": {
        "id": "8a55d250",
        "outputId": "e26cd92b-7376-4911-fd26-f4d40ff9f792"
      },
      "outputs": [
        {
          "data": {
            "text/plain": [
              "0     6.7703\n",
              "1     7.5093\n",
              "2     6.7300\n",
              "3     6.7878\n",
              "4     7.1522\n",
              "5     6.8110\n",
              "6     7.2212\n",
              "7     6.6606\n",
              "8     7.2402\n",
              "9     7.0503\n",
              "10    6.8810\n",
              "11    7.4059\n",
              "12    6.7652\n",
              "13    6.0380\n",
              "14    7.1581\n",
              "15    7.0240\n",
              "16    6.6672\n",
              "17    7.4314\n",
              "18    7.3070\n",
              "19    6.7478\n",
              "20    6.8889\n",
              "21    7.4220\n",
              "22    6.5217\n",
              "23    7.1688\n",
              "24    6.7594\n",
              "25    6.9399\n",
              "26    7.0133\n",
              "27    6.9182\n",
              "28    6.3346\n",
              "29    7.5459\n",
              "30    7.0992\n",
              "31    7.1180\n",
              "32    6.6965\n",
              "33    6.5780\n",
              "34    7.3875\n",
              "Name: Unit B, dtype: float64"
            ]
          },
          "execution_count": 23,
          "metadata": {},
          "output_type": "execute_result"
        }
      ],
      "source": [
        "unitB"
      ]
    },
    {
      "cell_type": "code",
      "execution_count": null,
      "id": "862795d4",
      "metadata": {
        "id": "862795d4"
      },
      "outputs": [],
      "source": [
        "# for 2 sample 2 tail we use stats.ttest_ind"
      ]
    },
    {
      "cell_type": "code",
      "execution_count": null,
      "id": "fa1a295d",
      "metadata": {
        "id": "fa1a295d"
      },
      "outputs": [],
      "source": [
        "p_value=stats.ttest_ind(unitA,unitB)"
      ]
    },
    {
      "cell_type": "code",
      "execution_count": null,
      "id": "47ec6514",
      "metadata": {
        "id": "47ec6514",
        "outputId": "d1e5e3fe-0a40-4272-8a17-981bda3716c3"
      },
      "outputs": [
        {
          "data": {
            "text/plain": [
              "Ttest_indResult(statistic=0.7228688704678063, pvalue=0.4722394724599501)"
            ]
          },
          "execution_count": 26,
          "metadata": {},
          "output_type": "execute_result"
        }
      ],
      "source": [
        "p_value"
      ]
    },
    {
      "cell_type": "code",
      "execution_count": null,
      "id": "9e536191",
      "metadata": {
        "id": "9e536191",
        "outputId": "d305431c-cc9d-4b69-89ce-a0f5a0fdbc27"
      },
      "outputs": [
        {
          "data": {
            "text/plain": [
              "0.4722394724599501"
            ]
          },
          "execution_count": 27,
          "metadata": {},
          "output_type": "execute_result"
        }
      ],
      "source": [
        "p_value[1]"
      ]
    },
    {
      "cell_type": "code",
      "execution_count": null,
      "id": "8ee705f5",
      "metadata": {
        "id": "8ee705f5"
      },
      "outputs": [],
      "source": [
        "# p_value > 0.05 (accept H0 hypothesis)\n",
        "# p_value < 0.05 (accept H1 hypothesis)"
      ]
    },
    {
      "cell_type": "code",
      "execution_count": null,
      "id": "c58cbe5a",
      "metadata": {
        "id": "c58cbe5a"
      },
      "outputs": [],
      "source": [
        "# inferance with 5% significance level = 0.05 "
      ]
    },
    {
      "cell_type": "code",
      "execution_count": null,
      "id": "ac66920a",
      "metadata": {
        "id": "ac66920a",
        "outputId": "d2b8df5c-35f1-40b7-f2e8-18089bdc7807"
      },
      "outputs": [
        {
          "data": {
            "text/plain": [
              "True"
            ]
          },
          "execution_count": 31,
          "metadata": {},
          "output_type": "execute_result"
        }
      ],
      "source": [
        "0.4722394724599501 > 0.05 # p_value > 0.05 (accept H0 hypothesis i.e. Ho: μ1 = μ2 )"
      ]
    },
    {
      "cell_type": "code",
      "execution_count": null,
      "id": "2188d3cd",
      "metadata": {
        "id": "2188d3cd"
      },
      "outputs": [],
      "source": [
        "# There is no difference in diameters of cutlets between two units)."
      ]
    },
    {
      "cell_type": "markdown",
      "id": "94e5946d",
      "metadata": {
        "id": "94e5946d"
      },
      "source": [
        "# Question No. 2 \n",
        " hospital wants to determine whether there is any difference in the average Turn Around Time (TAT) of reports of the laboratories on their preferred list. They collected a random sample and recorded TAT for reports of 4 laboratories. TAT is defined as sample collected to report dispatch.\n",
        "   \n",
        "  Analyze the data and determine whether there is any difference in average TAT among the different laboratories at 5% significance level.\n",
        " \n",
        " \n",
        " Minitab File: LabTAT.mtw"
      ]
    },
    {
      "cell_type": "code",
      "execution_count": null,
      "id": "17a6a4e1",
      "metadata": {
        "id": "17a6a4e1"
      },
      "outputs": [],
      "source": [
        "import pandas as pd\n",
        "import numpy as np\n",
        "import matplotlib.pyplot as plt\n",
        "from scipy import stats "
      ]
    },
    {
      "cell_type": "code",
      "execution_count": null,
      "id": "747b67da",
      "metadata": {
        "id": "747b67da"
      },
      "outputs": [],
      "source": [
        "labtat=pd.read_csv(r\"\\Users\\HP-PC\\Desktop\\Assignments\\ASSIGNMENT 3_ Hypothesis Testing\\LabTAT.csv\")"
      ]
    },
    {
      "cell_type": "code",
      "execution_count": null,
      "id": "ef2a291e",
      "metadata": {
        "id": "ef2a291e",
        "outputId": "13d28120-40df-4b35-e1fe-0a391d56a9c9"
      },
      "outputs": [
        {
          "data": {
            "text/html": [
              "<div>\n",
              "<style scoped>\n",
              "    .dataframe tbody tr th:only-of-type {\n",
              "        vertical-align: middle;\n",
              "    }\n",
              "\n",
              "    .dataframe tbody tr th {\n",
              "        vertical-align: top;\n",
              "    }\n",
              "\n",
              "    .dataframe thead th {\n",
              "        text-align: right;\n",
              "    }\n",
              "</style>\n",
              "<table border=\"1\" class=\"dataframe\">\n",
              "  <thead>\n",
              "    <tr style=\"text-align: right;\">\n",
              "      <th></th>\n",
              "      <th>Laboratory 1</th>\n",
              "      <th>Laboratory 2</th>\n",
              "      <th>Laboratory 3</th>\n",
              "      <th>Laboratory 4</th>\n",
              "    </tr>\n",
              "  </thead>\n",
              "  <tbody>\n",
              "    <tr>\n",
              "      <th>0</th>\n",
              "      <td>185.35</td>\n",
              "      <td>165.53</td>\n",
              "      <td>176.70</td>\n",
              "      <td>166.13</td>\n",
              "    </tr>\n",
              "    <tr>\n",
              "      <th>1</th>\n",
              "      <td>170.49</td>\n",
              "      <td>185.91</td>\n",
              "      <td>198.45</td>\n",
              "      <td>160.79</td>\n",
              "    </tr>\n",
              "    <tr>\n",
              "      <th>2</th>\n",
              "      <td>192.77</td>\n",
              "      <td>194.92</td>\n",
              "      <td>201.23</td>\n",
              "      <td>185.18</td>\n",
              "    </tr>\n",
              "    <tr>\n",
              "      <th>3</th>\n",
              "      <td>177.33</td>\n",
              "      <td>183.00</td>\n",
              "      <td>199.61</td>\n",
              "      <td>176.42</td>\n",
              "    </tr>\n",
              "    <tr>\n",
              "      <th>4</th>\n",
              "      <td>193.41</td>\n",
              "      <td>169.57</td>\n",
              "      <td>204.63</td>\n",
              "      <td>152.60</td>\n",
              "    </tr>\n",
              "  </tbody>\n",
              "</table>\n",
              "</div>"
            ],
            "text/plain": [
              "   Laboratory 1  Laboratory 2  Laboratory 3  Laboratory 4\n",
              "0        185.35        165.53        176.70        166.13\n",
              "1        170.49        185.91        198.45        160.79\n",
              "2        192.77        194.92        201.23        185.18\n",
              "3        177.33        183.00        199.61        176.42\n",
              "4        193.41        169.57        204.63        152.60"
            ]
          },
          "execution_count": 35,
          "metadata": {},
          "output_type": "execute_result"
        }
      ],
      "source": [
        "labtat.head()"
      ]
    },
    {
      "cell_type": "code",
      "execution_count": null,
      "id": "33b5c75a",
      "metadata": {
        "id": "33b5c75a",
        "outputId": "518034c4-a303-48f4-f3e1-119a03203320"
      },
      "outputs": [
        {
          "data": {
            "text/html": [
              "<div>\n",
              "<style scoped>\n",
              "    .dataframe tbody tr th:only-of-type {\n",
              "        vertical-align: middle;\n",
              "    }\n",
              "\n",
              "    .dataframe tbody tr th {\n",
              "        vertical-align: top;\n",
              "    }\n",
              "\n",
              "    .dataframe thead th {\n",
              "        text-align: right;\n",
              "    }\n",
              "</style>\n",
              "<table border=\"1\" class=\"dataframe\">\n",
              "  <thead>\n",
              "    <tr style=\"text-align: right;\">\n",
              "      <th></th>\n",
              "      <th>Laboratory 1</th>\n",
              "      <th>Laboratory 2</th>\n",
              "      <th>Laboratory 3</th>\n",
              "      <th>Laboratory 4</th>\n",
              "    </tr>\n",
              "  </thead>\n",
              "  <tbody>\n",
              "    <tr>\n",
              "      <th>115</th>\n",
              "      <td>178.49</td>\n",
              "      <td>170.66</td>\n",
              "      <td>193.80</td>\n",
              "      <td>172.68</td>\n",
              "    </tr>\n",
              "    <tr>\n",
              "      <th>116</th>\n",
              "      <td>176.08</td>\n",
              "      <td>183.98</td>\n",
              "      <td>215.25</td>\n",
              "      <td>177.64</td>\n",
              "    </tr>\n",
              "    <tr>\n",
              "      <th>117</th>\n",
              "      <td>202.48</td>\n",
              "      <td>174.54</td>\n",
              "      <td>203.99</td>\n",
              "      <td>170.27</td>\n",
              "    </tr>\n",
              "    <tr>\n",
              "      <th>118</th>\n",
              "      <td>182.40</td>\n",
              "      <td>197.18</td>\n",
              "      <td>194.52</td>\n",
              "      <td>150.87</td>\n",
              "    </tr>\n",
              "    <tr>\n",
              "      <th>119</th>\n",
              "      <td>182.09</td>\n",
              "      <td>215.17</td>\n",
              "      <td>221.49</td>\n",
              "      <td>162.21</td>\n",
              "    </tr>\n",
              "  </tbody>\n",
              "</table>\n",
              "</div>"
            ],
            "text/plain": [
              "     Laboratory 1  Laboratory 2  Laboratory 3  Laboratory 4\n",
              "115        178.49        170.66        193.80        172.68\n",
              "116        176.08        183.98        215.25        177.64\n",
              "117        202.48        174.54        203.99        170.27\n",
              "118        182.40        197.18        194.52        150.87\n",
              "119        182.09        215.17        221.49        162.21"
            ]
          },
          "execution_count": 36,
          "metadata": {},
          "output_type": "execute_result"
        }
      ],
      "source": [
        "labtat.tail()"
      ]
    },
    {
      "cell_type": "code",
      "execution_count": null,
      "id": "d4b0d721",
      "metadata": {
        "id": "d4b0d721"
      },
      "outputs": [],
      "source": [
        "lab1=pd.Series(labtat.iloc[:,0])"
      ]
    },
    {
      "cell_type": "code",
      "execution_count": null,
      "id": "cdeeddb2",
      "metadata": {
        "id": "cdeeddb2",
        "outputId": "84e09b80-f326-4bb8-d1f4-50dd6e82cac3"
      },
      "outputs": [
        {
          "data": {
            "text/plain": [
              "0      185.35\n",
              "1      170.49\n",
              "2      192.77\n",
              "3      177.33\n",
              "4      193.41\n",
              "        ...  \n",
              "115    178.49\n",
              "116    176.08\n",
              "117    202.48\n",
              "118    182.40\n",
              "119    182.09\n",
              "Name: Laboratory 1, Length: 120, dtype: float64"
            ]
          },
          "execution_count": 38,
          "metadata": {},
          "output_type": "execute_result"
        }
      ],
      "source": [
        "lab1"
      ]
    },
    {
      "cell_type": "code",
      "execution_count": null,
      "id": "3f7bef5a",
      "metadata": {
        "id": "3f7bef5a",
        "outputId": "9264d068-2b32-403a-d761-0bf33f7fe6bb"
      },
      "outputs": [
        {
          "data": {
            "text/plain": [
              "0      165.53\n",
              "1      185.91\n",
              "2      194.92\n",
              "3      183.00\n",
              "4      169.57\n",
              "        ...  \n",
              "115    170.66\n",
              "116    183.98\n",
              "117    174.54\n",
              "118    197.18\n",
              "119    215.17\n",
              "Name: Laboratory 2, Length: 120, dtype: float64"
            ]
          },
          "execution_count": 39,
          "metadata": {},
          "output_type": "execute_result"
        }
      ],
      "source": [
        "lab2=pd.Series(labtat.iloc[:,1])\n",
        "lab2"
      ]
    },
    {
      "cell_type": "code",
      "execution_count": null,
      "id": "820a3c3f",
      "metadata": {
        "id": "820a3c3f",
        "outputId": "f7401af5-2163-456a-e886-370385843edc"
      },
      "outputs": [
        {
          "data": {
            "text/plain": [
              "0      176.70\n",
              "1      198.45\n",
              "2      201.23\n",
              "3      199.61\n",
              "4      204.63\n",
              "        ...  \n",
              "115    193.80\n",
              "116    215.25\n",
              "117    203.99\n",
              "118    194.52\n",
              "119    221.49\n",
              "Name: Laboratory 3, Length: 120, dtype: float64"
            ]
          },
          "execution_count": 40,
          "metadata": {},
          "output_type": "execute_result"
        }
      ],
      "source": [
        "lab3=pd.Series(labtat.iloc[:,2])\n",
        "lab3"
      ]
    },
    {
      "cell_type": "code",
      "execution_count": null,
      "id": "4b9a5ba3",
      "metadata": {
        "id": "4b9a5ba3",
        "outputId": "89d58d7e-35ae-436a-a519-afb24b948056"
      },
      "outputs": [
        {
          "data": {
            "text/plain": [
              "0      166.13\n",
              "1      160.79\n",
              "2      185.18\n",
              "3      176.42\n",
              "4      152.60\n",
              "        ...  \n",
              "115    172.68\n",
              "116    177.64\n",
              "117    170.27\n",
              "118    150.87\n",
              "119    162.21\n",
              "Name: Laboratory 4, Length: 120, dtype: float64"
            ]
          },
          "execution_count": 41,
          "metadata": {},
          "output_type": "execute_result"
        }
      ],
      "source": [
        "lab4=pd.Series(labtat.iloc[:,3])\n",
        "lab4"
      ]
    },
    {
      "cell_type": "code",
      "execution_count": null,
      "id": "02f1635d",
      "metadata": {
        "id": "02f1635d"
      },
      "outputs": [],
      "source": [
        "# for 4 samples we use anova test i.e stats.f_oneway(samples)"
      ]
    },
    {
      "cell_type": "code",
      "execution_count": null,
      "id": "2eb493b5",
      "metadata": {
        "id": "2eb493b5"
      },
      "outputs": [],
      "source": [
        "p_value=stats.f_oneway(lab1,lab2,lab3,lab4)"
      ]
    },
    {
      "cell_type": "code",
      "execution_count": null,
      "id": "623242ed",
      "metadata": {
        "id": "623242ed",
        "outputId": "7f235181-f216-4948-8cef-cacaba1e1c62"
      },
      "outputs": [
        {
          "data": {
            "text/plain": [
              "F_onewayResult(statistic=118.70421654401437, pvalue=2.1156708949992414e-57)"
            ]
          },
          "execution_count": 44,
          "metadata": {},
          "output_type": "execute_result"
        }
      ],
      "source": [
        "p_value"
      ]
    },
    {
      "cell_type": "code",
      "execution_count": null,
      "id": "cd8634da",
      "metadata": {
        "id": "cd8634da",
        "outputId": "f479b59f-caaf-4b7e-a76d-8e8441fa032a"
      },
      "outputs": [
        {
          "data": {
            "text/plain": [
              "2.1156708949992414e-57"
            ]
          },
          "execution_count": 45,
          "metadata": {},
          "output_type": "execute_result"
        }
      ],
      "source": [
        "p_value[1]"
      ]
    },
    {
      "cell_type": "code",
      "execution_count": null,
      "id": "1de8204e",
      "metadata": {
        "id": "1de8204e",
        "outputId": "e62af21e-41a8-4491-ddec-ec570cd19ada"
      },
      "outputs": [
        {
          "data": {
            "text/plain": [
              "True"
            ]
          },
          "execution_count": 49,
          "metadata": {},
          "output_type": "execute_result"
        }
      ],
      "source": [
        "p_value[1] < 0.05"
      ]
    },
    {
      "cell_type": "code",
      "execution_count": null,
      "id": "2531bdb5",
      "metadata": {
        "id": "2531bdb5"
      },
      "outputs": [],
      "source": [
        "# H1 is accepted as p_value < 0.05"
      ]
    },
    {
      "cell_type": "code",
      "execution_count": null,
      "id": "b1450788",
      "metadata": {
        "id": "b1450788"
      },
      "outputs": [],
      "source": [
        "# at least one samples is different"
      ]
    }
  ],
  "metadata": {
    "kernelspec": {
      "display_name": "Python 3 (ipykernel)",
      "language": "python",
      "name": "python3"
    },
    "language_info": {
      "codemirror_mode": {
        "name": "ipython",
        "version": 3
      },
      "file_extension": ".py",
      "mimetype": "text/x-python",
      "name": "python",
      "nbconvert_exporter": "python",
      "pygments_lexer": "ipython3",
      "version": "3.9.12"
    },
    "colab": {
      "provenance": []
    }
  },
  "nbformat": 4,
  "nbformat_minor": 5
}